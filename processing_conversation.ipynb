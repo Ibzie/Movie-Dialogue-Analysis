{
 "cells": [
  {
   "cell_type": "code",
   "execution_count": 1,
   "metadata": {
    "collapsed": true
   },
   "outputs": [
    {
     "ename": "UnboundLocalError",
     "evalue": "local variable 'utterances' referenced before assignment",
     "output_type": "error",
     "traceback": [
      "\u001B[1;31m---------------------------------------------------------------------------\u001B[0m",
      "\u001B[1;31mUnboundLocalError\u001B[0m                         Traceback (most recent call last)",
      "Cell \u001B[1;32mIn[1], line 10\u001B[0m\n\u001B[0;32m      8\u001B[0m ROOT_DIR \u001B[38;5;241m=\u001B[39m data_dir\n\u001B[0;32m      9\u001B[0m OUT_DIR \u001B[38;5;241m=\u001B[39m \u001B[38;5;124m\"\u001B[39m\u001B[38;5;124m\"\u001B[39m\n\u001B[1;32m---> 10\u001B[0m corpus \u001B[38;5;241m=\u001B[39m \u001B[43mconvokit\u001B[49m\u001B[38;5;241;43m.\u001B[39;49m\u001B[43mCorpus\u001B[49m\u001B[43m(\u001B[49m\u001B[43mROOT_DIR\u001B[49m\u001B[43m,\u001B[49m\u001B[43m \u001B[49m\u001B[43mutterance_end_index\u001B[49m\u001B[38;5;241;43m=\u001B[39;49m\u001B[38;5;241;43m199\u001B[39;49m\u001B[43m)\u001B[49m\n\u001B[0;32m     11\u001B[0m corpus\u001B[38;5;241m.\u001B[39mprint_summary_stats()\n\u001B[0;32m     13\u001B[0m test_utt_id \u001B[38;5;241m=\u001B[39m \u001B[38;5;124m'\u001B[39m\u001B[38;5;124mL1045\u001B[39m\u001B[38;5;124m'\u001B[39m\n",
      "File \u001B[1;32m~\\AppData\\Local\\Programs\\Python\\Python39\\lib\\site-packages\\convokit\\model\\corpus.py:143\u001B[0m, in \u001B[0;36mCorpus.__init__\u001B[1;34m(self, filename, utterances, db_collection_prefix, db_host, preload_vectors, utterance_start_index, utterance_end_index, merge_lines, exclude_utterance_meta, exclude_conversation_meta, exclude_speaker_meta, exclude_overall_meta, disable_type_check, backend, backend_mapper)\u001B[0m\n\u001B[0;32m    141\u001B[0m     \u001B[38;5;28mself\u001B[39m\u001B[38;5;241m.\u001B[39mmeta_index\u001B[38;5;241m.\u001B[39mdisable_type_check()\n\u001B[0;32m    142\u001B[0m \u001B[38;5;28;01mif\u001B[39;00m os\u001B[38;5;241m.\u001B[39mpath\u001B[38;5;241m.\u001B[39misdir(filename):\n\u001B[1;32m--> 143\u001B[0m     utterances \u001B[38;5;241m=\u001B[39m \u001B[43mload_utterance_info_from_dir\u001B[49m\u001B[43m(\u001B[49m\n\u001B[0;32m    144\u001B[0m \u001B[43m        \u001B[49m\u001B[43mfilename\u001B[49m\u001B[43m,\u001B[49m\u001B[43m \u001B[49m\u001B[43mutterance_start_index\u001B[49m\u001B[43m,\u001B[49m\u001B[43m \u001B[49m\u001B[43mutterance_end_index\u001B[49m\u001B[43m,\u001B[49m\u001B[43m \u001B[49m\u001B[43mexclude_utterance_meta\u001B[49m\n\u001B[0;32m    145\u001B[0m \u001B[43m    \u001B[49m\u001B[43m)\u001B[49m\n\u001B[0;32m    147\u001B[0m     speakers_data \u001B[38;5;241m=\u001B[39m load_speakers_data_from_dir(filename, exclude_speaker_meta)\n\u001B[0;32m    148\u001B[0m     convos_data \u001B[38;5;241m=\u001B[39m load_convos_data_from_dir(filename, exclude_conversation_meta)\n",
      "File \u001B[1;32m~\\AppData\\Local\\Programs\\Python\\Python39\\lib\\site-packages\\convokit\\model\\corpus_helpers.py:132\u001B[0m, in \u001B[0;36mload_utterance_info_from_dir\u001B[1;34m(dirname, utterance_start_index, utterance_end_index, exclude_utterance_meta)\u001B[0m\n\u001B[0;32m    129\u001B[0m         \u001B[38;5;28;01mfor\u001B[39;00m field \u001B[38;5;129;01min\u001B[39;00m exclude_utterance_meta:\n\u001B[0;32m    130\u001B[0m             \u001B[38;5;28;01mdel\u001B[39;00m utt[\u001B[38;5;124m\"\u001B[39m\u001B[38;5;124mmeta\u001B[39m\u001B[38;5;124m\"\u001B[39m][field]\n\u001B[1;32m--> 132\u001B[0m \u001B[38;5;28;01mreturn\u001B[39;00m \u001B[43mutterances\u001B[49m\n",
      "\u001B[1;31mUnboundLocalError\u001B[0m: local variable 'utterances' referenced before assignment"
     ]
    }
   ],
   "source": [
    "import os\n",
    "import convokit\n",
    "from convokit import download, Speaker,Utterance, Corpus\n",
    "from collections import defaultdict\n",
    "from tqdm import tqdm\n",
    "data_dir = \"cornell movie-dialogs corpus/\"\n",
    "\n",
    "ROOT_DIR = data_dir\n",
    "OUT_DIR = \"\"\n",
    "corpus = convokit.Corpus(ROOT_DIR, utterance_end_index=199)\n",
    "corpus.print_summary_stats()\n",
    "\n",
    "test_utt_id = '1681_14.a'\n",
    "utt = corpus.get_utterance(test_utt_id)\n",
    "utt.text"
   ]
  },
  {
   "cell_type": "code",
   "execution_count": null,
   "outputs": [],
   "source": [],
   "metadata": {
    "collapsed": false
   }
  }
 ],
 "metadata": {
  "kernelspec": {
   "display_name": "Python 3",
   "language": "python",
   "name": "python3"
  },
  "language_info": {
   "codemirror_mode": {
    "name": "ipython",
    "version": 2
   },
   "file_extension": ".py",
   "mimetype": "text/x-python",
   "name": "python",
   "nbconvert_exporter": "python",
   "pygments_lexer": "ipython2",
   "version": "2.7.6"
  }
 },
 "nbformat": 4,
 "nbformat_minor": 0
}
